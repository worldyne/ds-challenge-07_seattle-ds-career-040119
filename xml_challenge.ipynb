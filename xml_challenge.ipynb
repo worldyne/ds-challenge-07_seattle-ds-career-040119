{
 "cells": [
  {
   "cell_type": "code",
   "execution_count": 9,
   "metadata": {},
   "outputs": [
    {
     "name": "stdout",
     "output_type": "stream",
     "text": [
      "--2019-04-24 16:30:04--  https://dumps.wikimedia.org/enwiki/20190420/enwiki-20190420-pages-articles-multistream1.xml-p10p30302.bz2\n",
      "Resolving dumps.wikimedia.org (dumps.wikimedia.org)... 208.80.155.106\n",
      "Connecting to dumps.wikimedia.org (dumps.wikimedia.org)|208.80.155.106|:443... connected.\n",
      "HTTP request sent, awaiting response... 200 OK\n",
      "Length: 178223479 (170M) [application/octet-stream]\n",
      "Saving to: ‘enwiki-20190420-pages-articles-multistream1.xml-p10p30302.bz2’\n",
      "\n",
      "enwiki-20190420-pag 100%[===================>] 169.97M  1.99MB/s    in 88s     \n",
      "\n",
      "2019-04-24 16:31:33 (1.92 MB/s) - ‘enwiki-20190420-pages-articles-multistream1.xml-p10p30302.bz2’ saved [178223479/178223479]\n",
      "\n"
     ]
    }
   ],
   "source": [
    "#!pip install beautifulsoup\n",
    "#!wget https://dumps.wikimedia.org/enwiki/20190420/enwiki-20190420-pages-articles-multistream1.xml-p10p30302.bz2\n",
    "#!bunzip2 enwiki-20190420-pages-articles-multistream1.xml-p10p30302.bz2    "
   ]
  },
  {
   "cell_type": "code",
   "execution_count": 10,
   "metadata": {},
   "outputs": [
    {
     "name": "stdout",
     "output_type": "stream",
     "text": [
      " 4586335 74563548 642819893 enwiki-20190420-pages-articles-multistream1.xml-p10p30302\r\n"
     ]
    }
   ],
   "source": [
    "# Count lines, words, characters in XML data file\n",
    "#!wc enwiki-20190420-pages-articles-multistream1.xml-p10p30302"
   ]
  },
  {
   "cell_type": "code",
   "execution_count": 11,
   "metadata": {},
   "outputs": [],
   "source": [
    "from bs4 import BeautifulSoup\n",
    "import pandas as pd"
   ]
  },
  {
   "cell_type": "code",
   "execution_count": 12,
   "metadata": {},
   "outputs": [],
   "source": [
    "def get_pages_from_xml_file(filename, start_tag='<page>', end_tag='</page>'):\n",
    "    \"\"\"Yields each page from the specified XML data file.\"\"\"\n",
    "    page = None\n",
    "    with open(filename) as f:\n",
    "        for line in f:\n",
    "            if start_tag in line:\n",
    "                page = []\n",
    "                page.append(line)\n",
    "            elif end_tag in line:\n",
    "                page.append(line)\n",
    "                page_xml = ''.join(page)\n",
    "                yield page_xml\n",
    "                page = None\n",
    "            else:\n",
    "                if page is not None:\n",
    "                    page.append(line)"
   ]
  },
  {
   "cell_type": "code",
   "execution_count": 13,
   "metadata": {},
   "outputs": [],
   "source": [
    "filename = 'enwiki-20190420-pages-articles-multistream1.xml-p10p30302'\n",
    "pages = list(get_pages_from_xml_file(filename))"
   ]
  },
  {
   "cell_type": "code",
   "execution_count": 14,
   "metadata": {},
   "outputs": [],
   "source": [
    "def get_title_from_page_xml(page_xml):\n",
    "    \"\"\"Returns the title of the given page.\"\"\"\n",
    "    soup = BeautifulSoup(page_xml, 'lxml')\n",
    "    return soup.select_one('title').text"
   ]
  },
  {
   "cell_type": "code",
   "execution_count": 15,
   "metadata": {
    "scrolled": true
   },
   "outputs": [
    {
     "data": {
      "text/plain": [
       "19822"
      ]
     },
     "execution_count": 15,
     "metadata": {},
     "output_type": "execute_result"
    }
   ],
   "source": [
    "len(pages)  # Show the number of pages"
   ]
  },
  {
   "cell_type": "code",
   "execution_count": 16,
   "metadata": {
    "scrolled": true
   },
   "outputs": [
    {
     "name": "stdout",
     "output_type": "stream",
     "text": [
      "CPU times: user 24.8 s, sys: 1.17 s, total: 25.9 s\n",
      "Wall time: 25.9 s\n"
     ]
    }
   ],
   "source": [
    "%time titles = [get_title_from_page_xml(page) for page in pages]"
   ]
  },
  {
   "cell_type": "code",
   "execution_count": 17,
   "metadata": {},
   "outputs": [
    {
     "data": {
      "text/plain": [
       "['AccessibleComputing',\n",
       " 'Anarchism',\n",
       " 'AfghanistanHistory',\n",
       " 'AfghanistanGeography',\n",
       " 'AfghanistanPeople',\n",
       " '...',\n",
       " 'The Lord of the Rings/One Ring',\n",
       " 'Tax Freedom Day',\n",
       " 'Tax',\n",
       " 'Transhumanism',\n",
       " 'TARDIS']"
      ]
     },
     "execution_count": 17,
     "metadata": {},
     "output_type": "execute_result"
    }
   ],
   "source": [
    "titles[:5] + ['...'] + titles[-5:]  # Show the first and last 5 titles"
   ]
  },
  {
   "cell_type": "code",
   "execution_count": 18,
   "metadata": {},
   "outputs": [
    {
     "name": "stdout",
     "output_type": "stream",
     "text": [
      "  <page>\n",
      "    <title>AccessibleComputing</title>\n",
      "    <ns>0</ns>\n",
      "    <id>10</id>\n",
      "    <redirect title=\"Computer accessibility\" />\n",
      "    <revision>\n",
      "      <id>854851586</id>\n",
      "      <parentid>834079434</parentid>\n",
      "      <timestamp>2018-08-14T06:47:24Z</timestamp>\n",
      "      <contributor>\n",
      "        <username>Godsy</username>\n",
      "        <id>23257138</id>\n",
      "      </contributor>\n",
      "      <comment>remove from category for seeking instructions on rcats</comment>\n",
      "      <model>wikitext</model>\n",
      "      <format>text/x-wiki</format>\n",
      "      <text xml:space=\"preserve\">#REDIRECT [[Computer accessibility]]\n",
      "\n",
      "{{R from move}}\n",
      "{{R from CamelCase}}\n",
      "{{R unprintworthy}}</text>\n",
      "      <sha1>42l0cvblwtb4nnupxm6wo000d27t6kf</sha1>\n",
      "    </revision>\n",
      "  </page>\n",
      "\n"
     ]
    }
   ],
   "source": [
    "print(pages[0])  # Print the first page"
   ]
  },
  {
   "cell_type": "code",
   "execution_count": 19,
   "metadata": {},
   "outputs": [],
   "source": [
    "def get_text_from_page_xml(page):\n",
    "    \"\"\"Returns the text of the given page.\"\"\"\n",
    "    soup = BeautifulSoup(page, 'lxml')\n",
    "    return soup.select_one('text')"
   ]
  },
  {
   "cell_type": "code",
   "execution_count": 20,
   "metadata": {},
   "outputs": [
    {
     "data": {
      "text/plain": [
       "(<text xml:space=\"preserve\">#REDIRECT [[Computer accessibility]]\n",
       " \n",
       " {{R from move}}\n",
       " {{R from CamelCase}}\n",
       " {{R unprintworthy}}</text>, bs4.element.Tag)"
      ]
     },
     "execution_count": 20,
     "metadata": {},
     "output_type": "execute_result"
    }
   ],
   "source": [
    "page = pages[0]\n",
    "soup = BeautifulSoup(page, 'lxml')\n",
    "text = get_text_from_page_xml(page)\n",
    "text, type(text)"
   ]
  },
  {
   "cell_type": "code",
   "execution_count": 21,
   "metadata": {},
   "outputs": [],
   "source": [
    "data = []\n",
    "for page in pages:\n",
    "    row = {\n",
    "        'title': get_title_from_page_xml(page),\n",
    "        'text': get_text_from_page_xml(page),\n",
    "    }\n",
    "    data.append(row)"
   ]
  },
  {
   "cell_type": "code",
   "execution_count": 26,
   "metadata": {},
   "outputs": [
    {
     "data": {
      "text/html": [
       "<div>\n",
       "<style scoped>\n",
       "    .dataframe tbody tr th:only-of-type {\n",
       "        vertical-align: middle;\n",
       "    }\n",
       "\n",
       "    .dataframe tbody tr th {\n",
       "        vertical-align: top;\n",
       "    }\n",
       "\n",
       "    .dataframe thead th {\n",
       "        text-align: right;\n",
       "    }\n",
       "</style>\n",
       "<table border=\"1\" class=\"dataframe\">\n",
       "  <thead>\n",
       "    <tr style=\"text-align: right;\">\n",
       "      <th></th>\n",
       "      <th>text</th>\n",
       "      <th>title</th>\n",
       "    </tr>\n",
       "  </thead>\n",
       "  <tbody>\n",
       "    <tr>\n",
       "      <th>0</th>\n",
       "      <td>&lt;text xml:space=\"preserve\"&gt;#REDIRECT [[Compute...</td>\n",
       "      <td>AccessibleComputing</td>\n",
       "    </tr>\n",
       "    <tr>\n",
       "      <th>1</th>\n",
       "      <td>&lt;text xml:space=\"preserve\"&gt;{{redirect2|Anarchi...</td>\n",
       "      <td>Anarchism</td>\n",
       "    </tr>\n",
       "    <tr>\n",
       "      <th>2</th>\n",
       "      <td>&lt;text xml:space=\"preserve\"&gt;#REDIRECT [[History...</td>\n",
       "      <td>AfghanistanHistory</td>\n",
       "    </tr>\n",
       "    <tr>\n",
       "      <th>3</th>\n",
       "      <td>&lt;text xml:space=\"preserve\"&gt;#REDIRECT [[Geograp...</td>\n",
       "      <td>AfghanistanGeography</td>\n",
       "    </tr>\n",
       "    <tr>\n",
       "      <th>4</th>\n",
       "      <td>&lt;text xml:space=\"preserve\"&gt;#REDIRECT [[Demogra...</td>\n",
       "      <td>AfghanistanPeople</td>\n",
       "    </tr>\n",
       "  </tbody>\n",
       "</table>\n",
       "</div>"
      ],
      "text/plain": [
       "                                                text                 title\n",
       "0  <text xml:space=\"preserve\">#REDIRECT [[Compute...   AccessibleComputing\n",
       "1  <text xml:space=\"preserve\">{{redirect2|Anarchi...             Anarchism\n",
       "2  <text xml:space=\"preserve\">#REDIRECT [[History...    AfghanistanHistory\n",
       "3  <text xml:space=\"preserve\">#REDIRECT [[Geograp...  AfghanistanGeography\n",
       "4  <text xml:space=\"preserve\">#REDIRECT [[Demogra...     AfghanistanPeople"
      ]
     },
     "execution_count": 26,
     "metadata": {},
     "output_type": "execute_result"
    }
   ],
   "source": [
    "df = pd.DataFrame(data)\n",
    "df.head()"
   ]
  },
  {
   "cell_type": "markdown",
   "metadata": {},
   "source": [
    "### Challenge"
   ]
  },
  {
   "cell_type": "markdown",
   "metadata": {},
   "source": [
    "#### 1. Create a Pandas dataframe containing the title and text of each page.\n",
    "\n",
    "* Implement the `get_text_from_page_xml` function above.\n",
    "* Re-create the dataframe with the text field filled in.\n",
    "\n",
    "#### 2. Identify the five pages that have the _longest_ text.\n",
    "\n",
    "* Find the length of each page's `<text>...</text>` element and add it to your dataframe.\n",
    "* Sort the data frame by text length, descending.\n",
    "* What are the titles of the five longest articles?"
   ]
  },
  {
   "cell_type": "code",
   "execution_count": 53,
   "metadata": {},
   "outputs": [],
   "source": [
    "df1 = df"
   ]
  },
  {
   "cell_type": "code",
   "execution_count": 62,
   "metadata": {},
   "outputs": [
    {
     "data": {
      "text/html": [
       "<div>\n",
       "<style scoped>\n",
       "    .dataframe tbody tr th:only-of-type {\n",
       "        vertical-align: middle;\n",
       "    }\n",
       "\n",
       "    .dataframe tbody tr th {\n",
       "        vertical-align: top;\n",
       "    }\n",
       "\n",
       "    .dataframe thead th {\n",
       "        text-align: right;\n",
       "    }\n",
       "</style>\n",
       "<table border=\"1\" class=\"dataframe\">\n",
       "  <thead>\n",
       "    <tr style=\"text-align: right;\">\n",
       "      <th></th>\n",
       "      <th>text</th>\n",
       "      <th>title</th>\n",
       "      <th>text_len</th>\n",
       "    </tr>\n",
       "  </thead>\n",
       "  <tbody>\n",
       "    <tr>\n",
       "      <th>10165</th>\n",
       "      <td>&lt;text xml:space=\"preserve\"&gt;{{short description...</td>\n",
       "      <td>List of compositions by Johann Sebastian Bach</td>\n",
       "      <td>443556</td>\n",
       "    </tr>\n",
       "    <tr>\n",
       "      <th>15129</th>\n",
       "      <td>&lt;text xml:space=\"preserve\"&gt;{{about|the country...</td>\n",
       "      <td>Pakistan</td>\n",
       "      <td>386911</td>\n",
       "    </tr>\n",
       "    <tr>\n",
       "      <th>15287</th>\n",
       "      <td>&lt;text xml:space=\"preserve\"&gt;{{Redirect|Philippi...</td>\n",
       "      <td>Philippines</td>\n",
       "      <td>367556</td>\n",
       "    </tr>\n",
       "    <tr>\n",
       "      <th>3219</th>\n",
       "      <td>&lt;text xml:space=\"preserve\"&gt;{{For2|the Republic...</td>\n",
       "      <td>China</td>\n",
       "      <td>325026</td>\n",
       "    </tr>\n",
       "    <tr>\n",
       "      <th>8838</th>\n",
       "      <td>&lt;text xml:space=\"preserve\"&gt;{{short description...</td>\n",
       "      <td>History of India</td>\n",
       "      <td>324754</td>\n",
       "    </tr>\n",
       "  </tbody>\n",
       "</table>\n",
       "</div>"
      ],
      "text/plain": [
       "                                                    text  \\\n",
       "10165  <text xml:space=\"preserve\">{{short description...   \n",
       "15129  <text xml:space=\"preserve\">{{about|the country...   \n",
       "15287  <text xml:space=\"preserve\">{{Redirect|Philippi...   \n",
       "3219   <text xml:space=\"preserve\">{{For2|the Republic...   \n",
       "8838   <text xml:space=\"preserve\">{{short description...   \n",
       "\n",
       "                                               title  text_len  \n",
       "10165  List of compositions by Johann Sebastian Bach    443556  \n",
       "15129                                       Pakistan    386911  \n",
       "15287                                    Philippines    367556  \n",
       "3219                                           China    325026  \n",
       "8838                                History of India    324754  "
      ]
     },
     "execution_count": 62,
     "metadata": {},
     "output_type": "execute_result"
    }
   ],
   "source": [
    "df1['text_len'] = df1.text.map(str).apply(len)\n",
    "df1 = df1.sort_values('text_len',ascending=False)\n",
    "df1.head()"
   ]
  },
  {
   "cell_type": "code",
   "execution_count": null,
   "metadata": {},
   "outputs": [],
   "source": []
  },
  {
   "cell_type": "code",
   "execution_count": null,
   "metadata": {},
   "outputs": [],
   "source": []
  }
 ],
 "metadata": {
  "kernelspec": {
   "display_name": "Python 3",
   "language": "python",
   "name": "python3"
  },
  "language_info": {
   "codemirror_mode": {
    "name": "ipython",
    "version": 3
   },
   "file_extension": ".py",
   "mimetype": "text/x-python",
   "name": "python",
   "nbconvert_exporter": "python",
   "pygments_lexer": "ipython3",
   "version": "3.7.1"
  }
 },
 "nbformat": 4,
 "nbformat_minor": 2
}
